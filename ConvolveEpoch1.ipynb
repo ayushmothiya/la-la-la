{
  "nbformat": 4,
  "nbformat_minor": 0,
  "metadata": {
    "colab": {
      "provenance": [],
      "include_colab_link": true
    },
    "kernelspec": {
      "name": "python3",
      "display_name": "Python 3"
    },
    "language_info": {
      "name": "python"
    },
    "accelerator": "GPU",
    "gpuClass": "standard"
  },
  "cells": [
    {
      "cell_type": "markdown",
      "metadata": {
        "id": "view-in-github",
        "colab_type": "text"
      },
      "source": [
        "<a href=\"https://colab.research.google.com/github/ayushmothiya/la-la-la/blob/main/ConvolveEpoch1.ipynb\" target=\"_parent\"><img src=\"https://colab.research.google.com/assets/colab-badge.svg\" alt=\"Open In Colab\"/></a>"
      ]
    },
    {
      "cell_type": "code",
      "source": [
        "from google.colab import drive\n",
        "drive.mount('/content/drive')"
      ],
      "metadata": {
        "id": "SjgeSg5Bh1KJ",
        "outputId": "58b65856-d78e-4dec-d4df-356865f20131",
        "colab": {
          "base_uri": "https://localhost:8080/"
        }
      },
      "execution_count": null,
      "outputs": [
        {
          "output_type": "stream",
          "name": "stdout",
          "text": [
            "Drive already mounted at /content/drive; to attempt to forcibly remount, call drive.mount(\"/content/drive\", force_remount=True).\n"
          ]
        }
      ]
    },
    {
      "cell_type": "code",
      "source": [
        "import pandas as pd\n",
        "import numpy as np \n",
        "import matplotlib.pyplot as plt"
      ],
      "metadata": {
        "id": "7pf4ANsnMtcB"
      },
      "execution_count": null,
      "outputs": []
    },
    {
      "cell_type": "code",
      "source": [
        "ROOTPATH = \"/content/drive/MyDrive/\"\n",
        "TRAINPATH = ROOTPATH + \"refined_data.csv\"\n",
        "TESTPATH = ROOTPATH + \"test.csv\""
      ],
      "metadata": {
        "id": "7MzGh4UvbS7r"
      },
      "execution_count": null,
      "outputs": []
    },
    {
      "cell_type": "code",
      "source": [
        "def load_data(filepath):\n",
        "    df = pd.read_csv(filepath)\n",
        "\n",
        "    # Data Augmentation\n",
        "    df = df.drop([\"time_code\", \"log\"], axis=1)\n",
        "    renaming_dictionary = {\"Unnamed: 0\": \"ID\"}\n",
        "    \n",
        "    df = df.rename(columns=renaming_dictionary)\n",
        "    df = df.drop_duplicates(subset=[\"extra\",\"status\"])\n",
        "\n",
        "    extra_string_array = [\"RAS KERNEL FATAL rts tree/torus link training failed: wanted:\",\n",
        "                          \"RAS APP FATAL ciod: failed to read message prefix on control stream\",\n",
        "                          \"RAS KERNEL FATAL data address:\",\n",
        "                          \"RAS KERNEL FATAL 12:28244842 13:1eeeeeee 14:ffffffff\",\n",
        "                          \"RAS KERNEL FATAL instruction address:\",\n",
        "                          \"RAS KERNEL FATAL fpr\"]\n",
        "    for i in extra_string_array:\n",
        "        df.loc[df[\"extra\"].str.contains(i), \"extra\"] = i\n",
        "\n",
        "    return df"
      ],
      "metadata": {
        "id": "B3tCWQXPcAqw"
      },
      "execution_count": null,
      "outputs": []
    },
    {
      "cell_type": "code",
      "source": [
        "df_train = load_data(TRAINPATH)"
      ],
      "metadata": {
        "id": "CypJKar6bmUC"
      },
      "execution_count": null,
      "outputs": []
    },
    {
      "cell_type": "code",
      "source": [
        "print(df_train.shape)\n",
        "df_train.head()"
      ],
      "metadata": {
        "colab": {
          "base_uri": "https://localhost:8080/",
          "height": 224
        },
        "id": "3Js65jiwbpda",
        "outputId": "d2403c42-0df4-49e6-c394-367cacc6f197"
      },
      "execution_count": null,
      "outputs": [
        {
          "output_type": "stream",
          "name": "stdout",
          "text": [
            "(270939, 7)\n"
          ]
        },
        {
          "output_type": "execute_result",
          "data": {
            "text/plain": [
              "        ID  status        date      time     Seconds           weird_code  \\\n",
              "0        0       1  2005-06-03  15.42.50  1117838570  R02-M1-N0-C:J12-U11   \n",
              "1476  1476       1  2005-06-03  15.47.20  1117838840      R27-M1-L3-U18-C   \n",
              "2734  2734       1  2005-06-03  15.51.25  1117839085  R20-M1-N5-C:J17-U01   \n",
              "2735  2735       1  2005-06-03  15.51.25  1117839085  R20-M1-NF-C:J13-U01   \n",
              "2737  2737       1  2005-06-03  15.51.25  1117839085  R20-M1-N9-C:J17-U01   \n",
              "\n",
              "                                                  extra  \n",
              "0     RAS KERNEL INFO instruction cache parity error...  \n",
              "1476  RAS LINKCARD INFO MidplaneSwitchController per...  \n",
              "2734              RAS KERNEL INFO generating core.304\\n  \n",
              "2735               RAS KERNEL INFO generating core.17\\n  \n",
              "2737              RAS KERNEL INFO generating core.784\\n  "
            ],
            "text/html": [
              "\n",
              "  <div id=\"df-f2775737-483b-4593-b9ff-3c0e4524d869\">\n",
              "    <div class=\"colab-df-container\">\n",
              "      <div>\n",
              "<style scoped>\n",
              "    .dataframe tbody tr th:only-of-type {\n",
              "        vertical-align: middle;\n",
              "    }\n",
              "\n",
              "    .dataframe tbody tr th {\n",
              "        vertical-align: top;\n",
              "    }\n",
              "\n",
              "    .dataframe thead th {\n",
              "        text-align: right;\n",
              "    }\n",
              "</style>\n",
              "<table border=\"1\" class=\"dataframe\">\n",
              "  <thead>\n",
              "    <tr style=\"text-align: right;\">\n",
              "      <th></th>\n",
              "      <th>ID</th>\n",
              "      <th>status</th>\n",
              "      <th>date</th>\n",
              "      <th>time</th>\n",
              "      <th>Seconds</th>\n",
              "      <th>weird_code</th>\n",
              "      <th>extra</th>\n",
              "    </tr>\n",
              "  </thead>\n",
              "  <tbody>\n",
              "    <tr>\n",
              "      <th>0</th>\n",
              "      <td>0</td>\n",
              "      <td>1</td>\n",
              "      <td>2005-06-03</td>\n",
              "      <td>15.42.50</td>\n",
              "      <td>1117838570</td>\n",
              "      <td>R02-M1-N0-C:J12-U11</td>\n",
              "      <td>RAS KERNEL INFO instruction cache parity error...</td>\n",
              "    </tr>\n",
              "    <tr>\n",
              "      <th>1476</th>\n",
              "      <td>1476</td>\n",
              "      <td>1</td>\n",
              "      <td>2005-06-03</td>\n",
              "      <td>15.47.20</td>\n",
              "      <td>1117838840</td>\n",
              "      <td>R27-M1-L3-U18-C</td>\n",
              "      <td>RAS LINKCARD INFO MidplaneSwitchController per...</td>\n",
              "    </tr>\n",
              "    <tr>\n",
              "      <th>2734</th>\n",
              "      <td>2734</td>\n",
              "      <td>1</td>\n",
              "      <td>2005-06-03</td>\n",
              "      <td>15.51.25</td>\n",
              "      <td>1117839085</td>\n",
              "      <td>R20-M1-N5-C:J17-U01</td>\n",
              "      <td>RAS KERNEL INFO generating core.304\\n</td>\n",
              "    </tr>\n",
              "    <tr>\n",
              "      <th>2735</th>\n",
              "      <td>2735</td>\n",
              "      <td>1</td>\n",
              "      <td>2005-06-03</td>\n",
              "      <td>15.51.25</td>\n",
              "      <td>1117839085</td>\n",
              "      <td>R20-M1-NF-C:J13-U01</td>\n",
              "      <td>RAS KERNEL INFO generating core.17\\n</td>\n",
              "    </tr>\n",
              "    <tr>\n",
              "      <th>2737</th>\n",
              "      <td>2737</td>\n",
              "      <td>1</td>\n",
              "      <td>2005-06-03</td>\n",
              "      <td>15.51.25</td>\n",
              "      <td>1117839085</td>\n",
              "      <td>R20-M1-N9-C:J17-U01</td>\n",
              "      <td>RAS KERNEL INFO generating core.784\\n</td>\n",
              "    </tr>\n",
              "  </tbody>\n",
              "</table>\n",
              "</div>\n",
              "      <button class=\"colab-df-convert\" onclick=\"convertToInteractive('df-f2775737-483b-4593-b9ff-3c0e4524d869')\"\n",
              "              title=\"Convert this dataframe to an interactive table.\"\n",
              "              style=\"display:none;\">\n",
              "        \n",
              "  <svg xmlns=\"http://www.w3.org/2000/svg\" height=\"24px\"viewBox=\"0 0 24 24\"\n",
              "       width=\"24px\">\n",
              "    <path d=\"M0 0h24v24H0V0z\" fill=\"none\"/>\n",
              "    <path d=\"M18.56 5.44l.94 2.06.94-2.06 2.06-.94-2.06-.94-.94-2.06-.94 2.06-2.06.94zm-11 1L8.5 8.5l.94-2.06 2.06-.94-2.06-.94L8.5 2.5l-.94 2.06-2.06.94zm10 10l.94 2.06.94-2.06 2.06-.94-2.06-.94-.94-2.06-.94 2.06-2.06.94z\"/><path d=\"M17.41 7.96l-1.37-1.37c-.4-.4-.92-.59-1.43-.59-.52 0-1.04.2-1.43.59L10.3 9.45l-7.72 7.72c-.78.78-.78 2.05 0 2.83L4 21.41c.39.39.9.59 1.41.59.51 0 1.02-.2 1.41-.59l7.78-7.78 2.81-2.81c.8-.78.8-2.07 0-2.86zM5.41 20L4 18.59l7.72-7.72 1.47 1.35L5.41 20z\"/>\n",
              "  </svg>\n",
              "      </button>\n",
              "      \n",
              "  <style>\n",
              "    .colab-df-container {\n",
              "      display:flex;\n",
              "      flex-wrap:wrap;\n",
              "      gap: 12px;\n",
              "    }\n",
              "\n",
              "    .colab-df-convert {\n",
              "      background-color: #E8F0FE;\n",
              "      border: none;\n",
              "      border-radius: 50%;\n",
              "      cursor: pointer;\n",
              "      display: none;\n",
              "      fill: #1967D2;\n",
              "      height: 32px;\n",
              "      padding: 0 0 0 0;\n",
              "      width: 32px;\n",
              "    }\n",
              "\n",
              "    .colab-df-convert:hover {\n",
              "      background-color: #E2EBFA;\n",
              "      box-shadow: 0px 1px 2px rgba(60, 64, 67, 0.3), 0px 1px 3px 1px rgba(60, 64, 67, 0.15);\n",
              "      fill: #174EA6;\n",
              "    }\n",
              "\n",
              "    [theme=dark] .colab-df-convert {\n",
              "      background-color: #3B4455;\n",
              "      fill: #D2E3FC;\n",
              "    }\n",
              "\n",
              "    [theme=dark] .colab-df-convert:hover {\n",
              "      background-color: #434B5C;\n",
              "      box-shadow: 0px 1px 3px 1px rgba(0, 0, 0, 0.15);\n",
              "      filter: drop-shadow(0px 1px 2px rgba(0, 0, 0, 0.3));\n",
              "      fill: #FFFFFF;\n",
              "    }\n",
              "  </style>\n",
              "\n",
              "      <script>\n",
              "        const buttonEl =\n",
              "          document.querySelector('#df-f2775737-483b-4593-b9ff-3c0e4524d869 button.colab-df-convert');\n",
              "        buttonEl.style.display =\n",
              "          google.colab.kernel.accessAllowed ? 'block' : 'none';\n",
              "\n",
              "        async function convertToInteractive(key) {\n",
              "          const element = document.querySelector('#df-f2775737-483b-4593-b9ff-3c0e4524d869');\n",
              "          const dataTable =\n",
              "            await google.colab.kernel.invokeFunction('convertToInteractive',\n",
              "                                                     [key], {});\n",
              "          if (!dataTable) return;\n",
              "\n",
              "          const docLinkHtml = 'Like what you see? Visit the ' +\n",
              "            '<a target=\"_blank\" href=https://colab.research.google.com/notebooks/data_table.ipynb>data table notebook</a>'\n",
              "            + ' to learn more about interactive tables.';\n",
              "          element.innerHTML = '';\n",
              "          dataTable['output_type'] = 'display_data';\n",
              "          await google.colab.output.renderOutput(dataTable, element);\n",
              "          const docLink = document.createElement('div');\n",
              "          docLink.innerHTML = docLinkHtml;\n",
              "          element.appendChild(docLink);\n",
              "        }\n",
              "      </script>\n",
              "    </div>\n",
              "  </div>\n",
              "  "
            ]
          },
          "metadata": {},
          "execution_count": 6
        }
      ]
    },
    {
      "cell_type": "code",
      "source": [
        "!pip install -U sentence-transformers"
      ],
      "metadata": {
        "colab": {
          "base_uri": "https://localhost:8080/"
        },
        "id": "HRnN3hm7DHDo",
        "outputId": "f63c8ffc-4c59-4d12-d388-87f1081abc7d"
      },
      "execution_count": null,
      "outputs": [
        {
          "output_type": "stream",
          "name": "stdout",
          "text": [
            "Looking in indexes: https://pypi.org/simple, https://us-python.pkg.dev/colab-wheels/public/simple/\n",
            "Requirement already satisfied: sentence-transformers in /usr/local/lib/python3.8/dist-packages (2.2.2)\n",
            "Requirement already satisfied: torch>=1.6.0 in /usr/local/lib/python3.8/dist-packages (from sentence-transformers) (1.13.0+cu116)\n",
            "Requirement already satisfied: scikit-learn in /usr/local/lib/python3.8/dist-packages (from sentence-transformers) (1.0.2)\n",
            "Requirement already satisfied: transformers<5.0.0,>=4.6.0 in /usr/local/lib/python3.8/dist-packages (from sentence-transformers) (4.25.1)\n",
            "Requirement already satisfied: huggingface-hub>=0.4.0 in /usr/local/lib/python3.8/dist-packages (from sentence-transformers) (0.11.1)\n",
            "Requirement already satisfied: torchvision in /usr/local/lib/python3.8/dist-packages (from sentence-transformers) (0.14.0+cu116)\n",
            "Requirement already satisfied: sentencepiece in /usr/local/lib/python3.8/dist-packages (from sentence-transformers) (0.1.97)\n",
            "Requirement already satisfied: nltk in /usr/local/lib/python3.8/dist-packages (from sentence-transformers) (3.7)\n",
            "Requirement already satisfied: tqdm in /usr/local/lib/python3.8/dist-packages (from sentence-transformers) (4.64.1)\n",
            "Requirement already satisfied: numpy in /usr/local/lib/python3.8/dist-packages (from sentence-transformers) (1.21.6)\n",
            "Requirement already satisfied: scipy in /usr/local/lib/python3.8/dist-packages (from sentence-transformers) (1.7.3)\n",
            "Requirement already satisfied: filelock in /usr/local/lib/python3.8/dist-packages (from huggingface-hub>=0.4.0->sentence-transformers) (3.8.2)\n",
            "Requirement already satisfied: requests in /usr/local/lib/python3.8/dist-packages (from huggingface-hub>=0.4.0->sentence-transformers) (2.23.0)\n",
            "Requirement already satisfied: packaging>=20.9 in /usr/local/lib/python3.8/dist-packages (from huggingface-hub>=0.4.0->sentence-transformers) (21.3)\n",
            "Requirement already satisfied: typing-extensions>=3.7.4.3 in /usr/local/lib/python3.8/dist-packages (from huggingface-hub>=0.4.0->sentence-transformers) (4.4.0)\n",
            "Requirement already satisfied: pyyaml>=5.1 in /usr/local/lib/python3.8/dist-packages (from huggingface-hub>=0.4.0->sentence-transformers) (6.0)\n",
            "Requirement already satisfied: pyparsing!=3.0.5,>=2.0.2 in /usr/local/lib/python3.8/dist-packages (from packaging>=20.9->huggingface-hub>=0.4.0->sentence-transformers) (3.0.9)\n",
            "Requirement already satisfied: regex!=2019.12.17 in /usr/local/lib/python3.8/dist-packages (from transformers<5.0.0,>=4.6.0->sentence-transformers) (2022.6.2)\n",
            "Requirement already satisfied: tokenizers!=0.11.3,<0.14,>=0.11.1 in /usr/local/lib/python3.8/dist-packages (from transformers<5.0.0,>=4.6.0->sentence-transformers) (0.13.2)\n",
            "Requirement already satisfied: joblib in /usr/local/lib/python3.8/dist-packages (from nltk->sentence-transformers) (1.2.0)\n",
            "Requirement already satisfied: click in /usr/local/lib/python3.8/dist-packages (from nltk->sentence-transformers) (7.1.2)\n",
            "Requirement already satisfied: urllib3!=1.25.0,!=1.25.1,<1.26,>=1.21.1 in /usr/local/lib/python3.8/dist-packages (from requests->huggingface-hub>=0.4.0->sentence-transformers) (1.24.3)\n",
            "Requirement already satisfied: chardet<4,>=3.0.2 in /usr/local/lib/python3.8/dist-packages (from requests->huggingface-hub>=0.4.0->sentence-transformers) (3.0.4)\n",
            "Requirement already satisfied: certifi>=2017.4.17 in /usr/local/lib/python3.8/dist-packages (from requests->huggingface-hub>=0.4.0->sentence-transformers) (2022.12.7)\n",
            "Requirement already satisfied: idna<3,>=2.5 in /usr/local/lib/python3.8/dist-packages (from requests->huggingface-hub>=0.4.0->sentence-transformers) (2.10)\n",
            "Requirement already satisfied: threadpoolctl>=2.0.0 in /usr/local/lib/python3.8/dist-packages (from scikit-learn->sentence-transformers) (3.1.0)\n",
            "Requirement already satisfied: pillow!=8.3.*,>=5.3.0 in /usr/local/lib/python3.8/dist-packages (from torchvision->sentence-transformers) (7.1.2)\n"
          ]
        }
      ]
    },
    {
      "cell_type": "code",
      "source": [
        "from sentence_transformers import SentenceTransformer\n",
        "model = SentenceTransformer('all-distilroberta-v1')"
      ],
      "metadata": {
        "id": "Sd2AlM92EfrU"
      },
      "execution_count": null,
      "outputs": []
    },
    {
      "cell_type": "code",
      "source": [
        "embeddings_extra = model.encode(df_train.extra.values.tolist())"
      ],
      "metadata": {
        "id": "9fB05ILvEgAk",
        "colab": {
          "base_uri": "https://localhost:8080/",
          "height": 312
        },
        "outputId": "40fdbdcf-8607-4beb-d3a8-f56a4e18ca06"
      },
      "execution_count": null,
      "outputs": [
        {
          "output_type": "error",
          "ename": "KeyboardInterrupt",
          "evalue": "ignored",
          "traceback": [
            "\u001b[0;31m---------------------------------------------------------------------------\u001b[0m",
            "\u001b[0;31mKeyboardInterrupt\u001b[0m                         Traceback (most recent call last)",
            "\u001b[0;32m<ipython-input-23-42a9b2841081>\u001b[0m in \u001b[0;36m<module>\u001b[0;34m\u001b[0m\n\u001b[0;32m----> 1\u001b[0;31m \u001b[0membeddings_extra\u001b[0m \u001b[0;34m=\u001b[0m \u001b[0mmodel\u001b[0m\u001b[0;34m.\u001b[0m\u001b[0mencode\u001b[0m\u001b[0;34m(\u001b[0m\u001b[0mdf_train\u001b[0m\u001b[0;34m.\u001b[0m\u001b[0mextra\u001b[0m\u001b[0;34m.\u001b[0m\u001b[0mvalues\u001b[0m\u001b[0;34m.\u001b[0m\u001b[0mtolist\u001b[0m\u001b[0;34m(\u001b[0m\u001b[0;34m)\u001b[0m\u001b[0;34m)\u001b[0m\u001b[0;34m\u001b[0m\u001b[0;34m\u001b[0m\u001b[0m\n\u001b[0m",
            "\u001b[0;32m/usr/local/lib/python3.8/dist-packages/sentence_transformers/SentenceTransformer.py\u001b[0m in \u001b[0;36mencode\u001b[0;34m(self, sentences, batch_size, show_progress_bar, output_value, convert_to_numpy, convert_to_tensor, device, normalize_embeddings)\u001b[0m\n\u001b[1;32m    186\u001b[0m                     \u001b[0;31m# fixes for #522 and #487 to avoid oom problems on gpu with large datasets\u001b[0m\u001b[0;34m\u001b[0m\u001b[0;34m\u001b[0m\u001b[0;34m\u001b[0m\u001b[0m\n\u001b[1;32m    187\u001b[0m                     \u001b[0;32mif\u001b[0m \u001b[0mconvert_to_numpy\u001b[0m\u001b[0;34m:\u001b[0m\u001b[0;34m\u001b[0m\u001b[0;34m\u001b[0m\u001b[0m\n\u001b[0;32m--> 188\u001b[0;31m                         \u001b[0membeddings\u001b[0m \u001b[0;34m=\u001b[0m \u001b[0membeddings\u001b[0m\u001b[0;34m.\u001b[0m\u001b[0mcpu\u001b[0m\u001b[0;34m(\u001b[0m\u001b[0;34m)\u001b[0m\u001b[0;34m\u001b[0m\u001b[0;34m\u001b[0m\u001b[0m\n\u001b[0m\u001b[1;32m    189\u001b[0m \u001b[0;34m\u001b[0m\u001b[0m\n\u001b[1;32m    190\u001b[0m                 \u001b[0mall_embeddings\u001b[0m\u001b[0;34m.\u001b[0m\u001b[0mextend\u001b[0m\u001b[0;34m(\u001b[0m\u001b[0membeddings\u001b[0m\u001b[0;34m)\u001b[0m\u001b[0;34m\u001b[0m\u001b[0;34m\u001b[0m\u001b[0m\n",
            "\u001b[0;31mKeyboardInterrupt\u001b[0m: "
          ]
        }
      ]
    },
    {
      "cell_type": "code",
      "source": [
        "embeddings_extra.shape"
      ],
      "metadata": {
        "colab": {
          "base_uri": "https://localhost:8080/"
        },
        "id": "8eRsr5O7Wcut",
        "outputId": "15ff061a-5ec2-40d5-9f69-b22397458c1f"
      },
      "execution_count": null,
      "outputs": [
        {
          "output_type": "execute_result",
          "data": {
            "text/plain": [
              "(270939, 768)"
            ]
          },
          "metadata": {},
          "execution_count": 24
        }
      ]
    },
    {
      "cell_type": "code",
      "source": [
        "import numpy as np\n",
        "from sklearn.pipeline import make_pipeline\n",
        "from sklearn.preprocessing import StandardScaler\n",
        "from sklearn.model_selection import train_test_split\n",
        "\n",
        "df_train_X = np.asarray(embeddings_extra)\n",
        "df_train_y = df_train.status.values\n",
        "\n",
        "# X_train, X_test, y_train, y_test = train_test_split(df_train_X, df_train_y, test_size=0.33, random_state=42)\n",
        "\n",
        "from sklearn.svm import SVC\n",
        "# clf = make_pipeline(StandardScaler(), SVC(gamma='auto'))\n",
        "# clf.fit(X_train, y_train)"
      ],
      "metadata": {
        "id": "8CLCe4PRE9t-"
      },
      "execution_count": null,
      "outputs": []
    },
    {
      "cell_type": "code",
      "source": [
        "# from sklearn.metrics import f1_score\n",
        "# print(f1_score(clf.predict(X_test), y_test, average='macro'))"
      ],
      "metadata": {
        "id": "JyiOxhk5HXKY"
      },
      "execution_count": null,
      "outputs": []
    },
    {
      "cell_type": "code",
      "source": [
        "# print(f1_score(clf.predict(X_train), y_train, average='macro'))"
      ],
      "metadata": {
        "id": "jKyNis9et9iM"
      },
      "execution_count": null,
      "outputs": []
    },
    {
      "cell_type": "code",
      "source": [
        "clf_whole = make_pipeline(StandardScaler(), SVC(gamma='auto'))\n",
        "clf_whole.fit(df_train_X,df_train_y)"
      ],
      "metadata": {
        "id": "RexQSoi1_dEe",
        "colab": {
          "base_uri": "https://localhost:8080/"
        },
        "outputId": "2a1de24d-f20d-428e-e654-0e185c32e486"
      },
      "execution_count": null,
      "outputs": [
        {
          "output_type": "execute_result",
          "data": {
            "text/plain": [
              "Pipeline(steps=[('standardscaler', StandardScaler()),\n",
              "                ('svc', SVC(gamma='auto'))])"
            ]
          },
          "metadata": {},
          "execution_count": 14
        }
      ]
    },
    {
      "cell_type": "code",
      "source": [
        "import xgboost as xgb\n",
        "\n",
        "xgb_model = xgb.XGBClassifier(objective='binary:logistic',random_state=42)\n",
        "xgb_model.fit(df_train_X, df_train_y)"
      ],
      "metadata": {
        "colab": {
          "base_uri": "https://localhost:8080/"
        },
        "id": "92126Ub0b3Im",
        "outputId": "8b066d49-54a4-4edb-f108-c09b8d7da447"
      },
      "execution_count": null,
      "outputs": [
        {
          "output_type": "execute_result",
          "data": {
            "text/plain": [
              "XGBClassifier(random_state=42)"
            ]
          },
          "metadata": {},
          "execution_count": 15
        }
      ]
    },
    {
      "cell_type": "code",
      "source": [
        "!pip -q install torchmetrics"
      ],
      "metadata": {
        "colab": {
          "base_uri": "https://localhost:8080/"
        },
        "id": "2NVb0XSQggSb",
        "outputId": "db80921a-c512-4141-8df2-29b6e60d0ae1"
      },
      "execution_count": null,
      "outputs": [
        {
          "output_type": "stream",
          "name": "stdout",
          "text": [
            "\u001b[?25l\r\u001b[K     |▋                               | 10 kB 29.7 MB/s eta 0:00:01\r\u001b[K     |█▎                              | 20 kB 36.7 MB/s eta 0:00:01\r\u001b[K     |██                              | 30 kB 45.2 MB/s eta 0:00:01\r\u001b[K     |██▋                             | 40 kB 43.5 MB/s eta 0:00:01\r\u001b[K     |███▏                            | 51 kB 47.2 MB/s eta 0:00:01\r\u001b[K     |███▉                            | 61 kB 52.3 MB/s eta 0:00:01\r\u001b[K     |████▌                           | 71 kB 33.3 MB/s eta 0:00:01\r\u001b[K     |█████▏                          | 81 kB 34.7 MB/s eta 0:00:01\r\u001b[K     |█████▊                          | 92 kB 37.0 MB/s eta 0:00:01\r\u001b[K     |██████▍                         | 102 kB 38.8 MB/s eta 0:00:01\r\u001b[K     |███████                         | 112 kB 38.8 MB/s eta 0:00:01\r\u001b[K     |███████▊                        | 122 kB 38.8 MB/s eta 0:00:01\r\u001b[K     |████████▎                       | 133 kB 38.8 MB/s eta 0:00:01\r\u001b[K     |█████████                       | 143 kB 38.8 MB/s eta 0:00:01\r\u001b[K     |█████████▋                      | 153 kB 38.8 MB/s eta 0:00:01\r\u001b[K     |██████████▎                     | 163 kB 38.8 MB/s eta 0:00:01\r\u001b[K     |██████████▉                     | 174 kB 38.8 MB/s eta 0:00:01\r\u001b[K     |███████████▌                    | 184 kB 38.8 MB/s eta 0:00:01\r\u001b[K     |████████████▏                   | 194 kB 38.8 MB/s eta 0:00:01\r\u001b[K     |████████████▉                   | 204 kB 38.8 MB/s eta 0:00:01\r\u001b[K     |█████████████▍                  | 215 kB 38.8 MB/s eta 0:00:01\r\u001b[K     |██████████████                  | 225 kB 38.8 MB/s eta 0:00:01\r\u001b[K     |██████████████▊                 | 235 kB 38.8 MB/s eta 0:00:01\r\u001b[K     |███████████████▍                | 245 kB 38.8 MB/s eta 0:00:01\r\u001b[K     |████████████████                | 256 kB 38.8 MB/s eta 0:00:01\r\u001b[K     |████████████████▋               | 266 kB 38.8 MB/s eta 0:00:01\r\u001b[K     |█████████████████▎              | 276 kB 38.8 MB/s eta 0:00:01\r\u001b[K     |██████████████████              | 286 kB 38.8 MB/s eta 0:00:01\r\u001b[K     |██████████████████▌             | 296 kB 38.8 MB/s eta 0:00:01\r\u001b[K     |███████████████████▏            | 307 kB 38.8 MB/s eta 0:00:01\r\u001b[K     |███████████████████▉            | 317 kB 38.8 MB/s eta 0:00:01\r\u001b[K     |████████████████████▌           | 327 kB 38.8 MB/s eta 0:00:01\r\u001b[K     |█████████████████████           | 337 kB 38.8 MB/s eta 0:00:01\r\u001b[K     |█████████████████████▊          | 348 kB 38.8 MB/s eta 0:00:01\r\u001b[K     |██████████████████████▍         | 358 kB 38.8 MB/s eta 0:00:01\r\u001b[K     |███████████████████████         | 368 kB 38.8 MB/s eta 0:00:01\r\u001b[K     |███████████████████████▋        | 378 kB 38.8 MB/s eta 0:00:01\r\u001b[K     |████████████████████████▎       | 389 kB 38.8 MB/s eta 0:00:01\r\u001b[K     |█████████████████████████       | 399 kB 38.8 MB/s eta 0:00:01\r\u001b[K     |█████████████████████████▋      | 409 kB 38.8 MB/s eta 0:00:01\r\u001b[K     |██████████████████████████▏     | 419 kB 38.8 MB/s eta 0:00:01\r\u001b[K     |██████████████████████████▉     | 430 kB 38.8 MB/s eta 0:00:01\r\u001b[K     |███████████████████████████▌    | 440 kB 38.8 MB/s eta 0:00:01\r\u001b[K     |████████████████████████████▏   | 450 kB 38.8 MB/s eta 0:00:01\r\u001b[K     |████████████████████████████▉   | 460 kB 38.8 MB/s eta 0:00:01\r\u001b[K     |█████████████████████████████▍  | 471 kB 38.8 MB/s eta 0:00:01\r\u001b[K     |██████████████████████████████  | 481 kB 38.8 MB/s eta 0:00:01\r\u001b[K     |██████████████████████████████▊ | 491 kB 38.8 MB/s eta 0:00:01\r\u001b[K     |███████████████████████████████▍| 501 kB 38.8 MB/s eta 0:00:01\r\u001b[K     |████████████████████████████████| 512 kB 38.8 MB/s eta 0:00:01\r\u001b[K     |████████████████████████████████| 512 kB 38.8 MB/s \n",
            "\u001b[?25h"
          ]
        }
      ]
    },
    {
      "cell_type": "code",
      "source": [
        "import torch\n",
        "from torch import nn\n",
        "from torchmetrics import Accuracy\n",
        "\n",
        "device = torch.device(\"cuda\" if torch.cuda.is_available() else \"cpu\")\n",
        "\n",
        "class Model(nn.Module):\n",
        "    def __init__(self,in_features=768,out_features=1):\n",
        "        super().__init__()\n",
        "\n",
        "        self.blackbox = nn.Sequential(nn.Linear(in_features, 1024),\n",
        "                                      nn.ReLU(),\n",
        "                                      nn.Linear(1024, 256),\n",
        "                                      nn.ReLU(),\n",
        "                                      nn.Linear(256, 32),\n",
        "                                      nn.ReLU(),\n",
        "                                      nn.Linear(32,out_features),\n",
        "                                      nn.Sigmoid())\n",
        "\n",
        "    def forward(self, x):\n",
        "        return self.blackbox(x)\n",
        "\n",
        "blackboxmodel = Model().to(device)\n",
        "\n",
        "loss_fn = nn.BCELoss()\n",
        "optimizer = torch.optim.SGD(params=model.parameters(), lr=0.1)\n",
        "acc_fn = Accuracy(task=\"binary\").to(device)\n",
        "\n",
        "X_train, X_test, y_train, y_test = train_test_split(df_train_X, df_train_y, test_size=0.2, random_state=42)\n",
        "\n",
        "X_train, y_train = X_train.to(device), y_train.to(device)\n",
        "X_test, y_test = X_test.to(device), y_test.to(device)\n",
        "\n",
        "epochs = 3000\n",
        "\n",
        "for epoch in range(epochs):\n",
        "    blackboxmodel.train()\n",
        "    y_prob_pred = blackboxmodel(X_train).squeeze()\n",
        "    y_pred = torch.round(y_prob_pred)\n",
        "\n",
        "    loss = loss_fn(y_prob_pred, y_train)\n",
        "    acc = acc_fn(y_pred, y_train.int())\n",
        "    optimizer.zero_grad()\n",
        "    loss.backward()\n",
        "    optimizer.step()\n",
        "\n",
        "\n",
        "    if epoch % 100 == 0:\n",
        "        blackboxmodel.eval() \n",
        "        with torch.inference_mode():\n",
        "            y_prob_pred = blackboxmodel(X_test).squeeze()\n",
        "            y_pred = torch.round(y_prob_pred)\n",
        "\n",
        "            test_loss = loss_fn(y_prob_pred, y_test) \n",
        "            test_acc = acc_fn(y_pred, y_test.int())\n",
        "\n",
        "        print(f\"Epoch: {epoch} | Loss: {loss:.5f}, Accuracy: {acc:.2f}% | Test loss: {test_loss:.5f}, Test acc: {test_acc:.2f}%\")"
      ],
      "metadata": {
        "colab": {
          "base_uri": "https://localhost:8080/",
          "height": 240
        },
        "id": "4xxn1GYFeOuA",
        "outputId": "76b1618d-a0e5-4116-ebd7-81bdb112259e"
      },
      "execution_count": null,
      "outputs": [
        {
          "output_type": "error",
          "ename": "AttributeError",
          "evalue": "ignored",
          "traceback": [
            "\u001b[0;31m---------------------------------------------------------------------------\u001b[0m",
            "\u001b[0;31mAttributeError\u001b[0m                            Traceback (most recent call last)",
            "\u001b[0;32m<ipython-input-17-eb34d94d0020>\u001b[0m in \u001b[0;36m<module>\u001b[0;34m\u001b[0m\n\u001b[1;32m     29\u001b[0m \u001b[0mX_train\u001b[0m\u001b[0;34m,\u001b[0m \u001b[0mX_test\u001b[0m\u001b[0;34m,\u001b[0m \u001b[0my_train\u001b[0m\u001b[0;34m,\u001b[0m \u001b[0my_test\u001b[0m \u001b[0;34m=\u001b[0m \u001b[0mtrain_test_split\u001b[0m\u001b[0;34m(\u001b[0m\u001b[0mdf_train_X\u001b[0m\u001b[0;34m,\u001b[0m \u001b[0mdf_train_y\u001b[0m\u001b[0;34m,\u001b[0m \u001b[0mtest_size\u001b[0m\u001b[0;34m=\u001b[0m\u001b[0;36m0.2\u001b[0m\u001b[0;34m,\u001b[0m \u001b[0mrandom_state\u001b[0m\u001b[0;34m=\u001b[0m\u001b[0;36m42\u001b[0m\u001b[0;34m)\u001b[0m\u001b[0;34m\u001b[0m\u001b[0;34m\u001b[0m\u001b[0m\n\u001b[1;32m     30\u001b[0m \u001b[0;34m\u001b[0m\u001b[0m\n\u001b[0;32m---> 31\u001b[0;31m \u001b[0mX_train\u001b[0m\u001b[0;34m,\u001b[0m \u001b[0my_train\u001b[0m \u001b[0;34m=\u001b[0m \u001b[0mX_train\u001b[0m\u001b[0;34m.\u001b[0m\u001b[0mto\u001b[0m\u001b[0;34m(\u001b[0m\u001b[0mdevice\u001b[0m\u001b[0;34m)\u001b[0m\u001b[0;34m,\u001b[0m \u001b[0my_train\u001b[0m\u001b[0;34m.\u001b[0m\u001b[0mto\u001b[0m\u001b[0;34m(\u001b[0m\u001b[0mdevice\u001b[0m\u001b[0;34m)\u001b[0m\u001b[0;34m\u001b[0m\u001b[0;34m\u001b[0m\u001b[0m\n\u001b[0m\u001b[1;32m     32\u001b[0m \u001b[0mX_test\u001b[0m\u001b[0;34m,\u001b[0m \u001b[0my_test\u001b[0m \u001b[0;34m=\u001b[0m \u001b[0mX_test\u001b[0m\u001b[0;34m.\u001b[0m\u001b[0mto\u001b[0m\u001b[0;34m(\u001b[0m\u001b[0mdevice\u001b[0m\u001b[0;34m)\u001b[0m\u001b[0;34m,\u001b[0m \u001b[0my_test\u001b[0m\u001b[0;34m.\u001b[0m\u001b[0mto\u001b[0m\u001b[0;34m(\u001b[0m\u001b[0mdevice\u001b[0m\u001b[0;34m)\u001b[0m\u001b[0;34m\u001b[0m\u001b[0;34m\u001b[0m\u001b[0m\n\u001b[1;32m     33\u001b[0m \u001b[0;34m\u001b[0m\u001b[0m\n",
            "\u001b[0;31mAttributeError\u001b[0m: 'numpy.ndarray' object has no attribute 'to'"
          ]
        }
      ]
    },
    {
      "cell_type": "code",
      "source": [
        "test_data = pd.read_csv('/content/drive/MyDrive/test.csv')\n",
        "\n",
        "test_data_1 = test_data[' Log'].str.lstrip(' ')\n",
        "r = test_data_1.str.partition(' ',expand=True)\n",
        "test_data['Seconds'] = r[0]\n",
        "s = r[2].str.partition(' ',expand=True)\n",
        "\n",
        "t = s[2].str.partition(' ',expand=True)\n",
        "test_data['weird_code'] = t[0]\n",
        "u = t[2].str.partition(' ',expand=True)\n",
        "test_data['time_code'] = u[0]\n",
        "v = u[2].str.partition(' ',expand=True)\n",
        "test_data['extra'] = v[2]\n",
        "test_data['extra'] = test_data['extra'].str.rstrip('\\n')\n",
        "test_data.head()\n",
        "\n",
        "renaming_dictionary = {\"Unnamed: 0\": \"index\", \"extra\": \"input\", \"status\": \"msg_type\"}\n",
        "\n",
        "extra_string_array = [\"RAS KERNEL FATAL rts tree/torus link training failed: wanted:\",\n",
        "                        \"RAS APP FATAL ciod: failed to read message prefix on control stream\",\n",
        "                        \"RAS KERNEL FATAL data address:\",\n",
        "                        \"RAS KERNEL FATAL 12:28244842 13:1eeeeeee 14:ffffffff\",\n",
        "                        \"RAS KERNEL FATAL instruction address:\",\n",
        "                        \"RAS KERNEL FATAL fpr\"]\n",
        "for i in extra_string_array:\n",
        "    test_data.loc[test_data[\"extra\"].str.contains(i), \"extra\"] = i\n",
        "\n",
        "\n",
        "test_data = test_data.drop([\"time_code\", \" Log\",\"Seconds\",\"weird_code\"], axis=1)\n",
        "\n",
        "test_data = test_data.rename(columns=renaming_dictionary)\n",
        "test_data.head()"
      ],
      "metadata": {
        "id": "vFPE6q51thxA",
        "colab": {
          "base_uri": "https://localhost:8080/",
          "height": 206
        },
        "outputId": "e7cfdc27-22db-4394-b80a-ec22e9ae1f62"
      },
      "execution_count": null,
      "outputs": [
        {
          "output_type": "execute_result",
          "data": {
            "text/plain": [
              "   ID                                              input\n",
              "0   0  RAS KERNEL FATAL rts: kernel terminated for re...\n",
              "1   1          RAS KERNEL FATAL data TLB error interrupt\n",
              "2   2          RAS KERNEL FATAL data TLB error interrupt\n",
              "3   3               RAS KERNEL INFO generating core.6463\n",
              "4   4          RAS KERNEL FATAL data TLB error interrupt"
            ],
            "text/html": [
              "\n",
              "  <div id=\"df-81f3aac0-f19d-4381-b3c9-1505b71a1ef8\">\n",
              "    <div class=\"colab-df-container\">\n",
              "      <div>\n",
              "<style scoped>\n",
              "    .dataframe tbody tr th:only-of-type {\n",
              "        vertical-align: middle;\n",
              "    }\n",
              "\n",
              "    .dataframe tbody tr th {\n",
              "        vertical-align: top;\n",
              "    }\n",
              "\n",
              "    .dataframe thead th {\n",
              "        text-align: right;\n",
              "    }\n",
              "</style>\n",
              "<table border=\"1\" class=\"dataframe\">\n",
              "  <thead>\n",
              "    <tr style=\"text-align: right;\">\n",
              "      <th></th>\n",
              "      <th>ID</th>\n",
              "      <th>input</th>\n",
              "    </tr>\n",
              "  </thead>\n",
              "  <tbody>\n",
              "    <tr>\n",
              "      <th>0</th>\n",
              "      <td>0</td>\n",
              "      <td>RAS KERNEL FATAL rts: kernel terminated for re...</td>\n",
              "    </tr>\n",
              "    <tr>\n",
              "      <th>1</th>\n",
              "      <td>1</td>\n",
              "      <td>RAS KERNEL FATAL data TLB error interrupt</td>\n",
              "    </tr>\n",
              "    <tr>\n",
              "      <th>2</th>\n",
              "      <td>2</td>\n",
              "      <td>RAS KERNEL FATAL data TLB error interrupt</td>\n",
              "    </tr>\n",
              "    <tr>\n",
              "      <th>3</th>\n",
              "      <td>3</td>\n",
              "      <td>RAS KERNEL INFO generating core.6463</td>\n",
              "    </tr>\n",
              "    <tr>\n",
              "      <th>4</th>\n",
              "      <td>4</td>\n",
              "      <td>RAS KERNEL FATAL data TLB error interrupt</td>\n",
              "    </tr>\n",
              "  </tbody>\n",
              "</table>\n",
              "</div>\n",
              "      <button class=\"colab-df-convert\" onclick=\"convertToInteractive('df-81f3aac0-f19d-4381-b3c9-1505b71a1ef8')\"\n",
              "              title=\"Convert this dataframe to an interactive table.\"\n",
              "              style=\"display:none;\">\n",
              "        \n",
              "  <svg xmlns=\"http://www.w3.org/2000/svg\" height=\"24px\"viewBox=\"0 0 24 24\"\n",
              "       width=\"24px\">\n",
              "    <path d=\"M0 0h24v24H0V0z\" fill=\"none\"/>\n",
              "    <path d=\"M18.56 5.44l.94 2.06.94-2.06 2.06-.94-2.06-.94-.94-2.06-.94 2.06-2.06.94zm-11 1L8.5 8.5l.94-2.06 2.06-.94-2.06-.94L8.5 2.5l-.94 2.06-2.06.94zm10 10l.94 2.06.94-2.06 2.06-.94-2.06-.94-.94-2.06-.94 2.06-2.06.94z\"/><path d=\"M17.41 7.96l-1.37-1.37c-.4-.4-.92-.59-1.43-.59-.52 0-1.04.2-1.43.59L10.3 9.45l-7.72 7.72c-.78.78-.78 2.05 0 2.83L4 21.41c.39.39.9.59 1.41.59.51 0 1.02-.2 1.41-.59l7.78-7.78 2.81-2.81c.8-.78.8-2.07 0-2.86zM5.41 20L4 18.59l7.72-7.72 1.47 1.35L5.41 20z\"/>\n",
              "  </svg>\n",
              "      </button>\n",
              "      \n",
              "  <style>\n",
              "    .colab-df-container {\n",
              "      display:flex;\n",
              "      flex-wrap:wrap;\n",
              "      gap: 12px;\n",
              "    }\n",
              "\n",
              "    .colab-df-convert {\n",
              "      background-color: #E8F0FE;\n",
              "      border: none;\n",
              "      border-radius: 50%;\n",
              "      cursor: pointer;\n",
              "      display: none;\n",
              "      fill: #1967D2;\n",
              "      height: 32px;\n",
              "      padding: 0 0 0 0;\n",
              "      width: 32px;\n",
              "    }\n",
              "\n",
              "    .colab-df-convert:hover {\n",
              "      background-color: #E2EBFA;\n",
              "      box-shadow: 0px 1px 2px rgba(60, 64, 67, 0.3), 0px 1px 3px 1px rgba(60, 64, 67, 0.15);\n",
              "      fill: #174EA6;\n",
              "    }\n",
              "\n",
              "    [theme=dark] .colab-df-convert {\n",
              "      background-color: #3B4455;\n",
              "      fill: #D2E3FC;\n",
              "    }\n",
              "\n",
              "    [theme=dark] .colab-df-convert:hover {\n",
              "      background-color: #434B5C;\n",
              "      box-shadow: 0px 1px 3px 1px rgba(0, 0, 0, 0.15);\n",
              "      filter: drop-shadow(0px 1px 2px rgba(0, 0, 0, 0.3));\n",
              "      fill: #FFFFFF;\n",
              "    }\n",
              "  </style>\n",
              "\n",
              "      <script>\n",
              "        const buttonEl =\n",
              "          document.querySelector('#df-81f3aac0-f19d-4381-b3c9-1505b71a1ef8 button.colab-df-convert');\n",
              "        buttonEl.style.display =\n",
              "          google.colab.kernel.accessAllowed ? 'block' : 'none';\n",
              "\n",
              "        async function convertToInteractive(key) {\n",
              "          const element = document.querySelector('#df-81f3aac0-f19d-4381-b3c9-1505b71a1ef8');\n",
              "          const dataTable =\n",
              "            await google.colab.kernel.invokeFunction('convertToInteractive',\n",
              "                                                     [key], {});\n",
              "          if (!dataTable) return;\n",
              "\n",
              "          const docLinkHtml = 'Like what you see? Visit the ' +\n",
              "            '<a target=\"_blank\" href=https://colab.research.google.com/notebooks/data_table.ipynb>data table notebook</a>'\n",
              "            + ' to learn more about interactive tables.';\n",
              "          element.innerHTML = '';\n",
              "          dataTable['output_type'] = 'display_data';\n",
              "          await google.colab.output.renderOutput(dataTable, element);\n",
              "          const docLink = document.createElement('div');\n",
              "          docLink.innerHTML = docLinkHtml;\n",
              "          element.appendChild(docLink);\n",
              "        }\n",
              "      </script>\n",
              "    </div>\n",
              "  </div>\n",
              "  "
            ]
          },
          "metadata": {},
          "execution_count": 25
        }
      ]
    },
    {
      "cell_type": "code",
      "source": [
        "test_embeddings = model.encode(test_data.input.values.tolist())\n",
        "df_test_X = np.asarray(test_embeddings)"
      ],
      "metadata": {
        "id": "EDKO9CDiumnR"
      },
      "execution_count": null,
      "outputs": []
    },
    {
      "cell_type": "code",
      "source": [
        "# y_pred1 = clf.predict(df_test_X)\n",
        "# y_pred2 = clf_whole.predict(df_test_X)\n",
        "# y_pred3 = xgb_model.predict(df_test_X)"
      ],
      "metadata": {
        "id": "rYsZ7N79A5c_"
      },
      "execution_count": null,
      "outputs": []
    },
    {
      "cell_type": "code",
      "source": [
        "y_pred_svm = clf_whole.predict(df_test_X) \n",
        "y_pred_xgb = xgb_model.predict(df_test_X)"
      ],
      "metadata": {
        "id": "pGg3N_XwKaOb"
      },
      "execution_count": null,
      "outputs": []
    },
    {
      "cell_type": "code",
      "source": [
        "submission = pd.DataFrame()\n",
        "submission['ID'] = test_data['ID']\n",
        "submission[' Label_svm'] = y_pred_svm\n",
        "submission[' Label_xgb'] = y_pred_xgb"
      ],
      "metadata": {
        "id": "SkQ_1ta3wYpj"
      },
      "execution_count": null,
      "outputs": []
    },
    {
      "cell_type": "code",
      "source": [
        "submission.to_csv('models.csv',index=False)"
      ],
      "metadata": {
        "id": "R-IaPW7Qc-Nb"
      },
      "execution_count": null,
      "outputs": []
    },
    {
      "cell_type": "code",
      "source": [
        "submission.head()"
      ],
      "metadata": {
        "id": "-MkOjJnnw30q"
      },
      "execution_count": null,
      "outputs": []
    },
    {
      "cell_type": "code",
      "source": [
        "submission[' Label'] = submission[' Label'].map({0:'abnormal',1:'normal'})\n",
        "submission.to_csv('xgboost_submission.csv',index=False)"
      ],
      "metadata": {
        "id": "xxReZ5PDyAF4"
      },
      "execution_count": null,
      "outputs": []
    },
    {
      "cell_type": "code",
      "source": [
        "submission.head()"
      ],
      "metadata": {
        "id": "apvn_lhDyjCO"
      },
      "execution_count": null,
      "outputs": []
    },
    {
      "cell_type": "code",
      "source": [
        "y_pred1.sum(), y_pred1.shape"
      ],
      "metadata": {
        "id": "-bJVEUT0S42e"
      },
      "execution_count": null,
      "outputs": []
    },
    {
      "cell_type": "code",
      "source": [
        "df_ayush = pd.read_csv(\"/content/submission.csv\")\n",
        "\n",
        "my_preds = submission[' Label'].values\n",
        "ayush_preds = df_ayush[' Label'].values\n",
        "\n",
        "print(sum(my_preds == ayush_preds))"
      ],
      "metadata": {
        "id": "h7tvZYBR0NvS"
      },
      "execution_count": null,
      "outputs": []
    },
    {
      "cell_type": "code",
      "source": [
        "test_data[test_data.input.str.contains('RAS KERNEL FATAL')]"
      ],
      "metadata": {
        "id": "zwaN6LpqPVB7"
      },
      "execution_count": null,
      "outputs": []
    },
    {
      "cell_type": "code",
      "source": [
        "test_data.shape"
      ],
      "metadata": {
        "id": "XsL_iyolPYDZ"
      },
      "execution_count": null,
      "outputs": []
    },
    {
      "cell_type": "code",
      "source": [],
      "metadata": {
        "id": "s517YCszX1Bd"
      },
      "execution_count": null,
      "outputs": []
    }
  ]
}