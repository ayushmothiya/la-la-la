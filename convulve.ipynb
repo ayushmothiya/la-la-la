{
  "nbformat": 4,
  "nbformat_minor": 0,
  "metadata": {
    "colab": {
      "provenance": []
    },
    "kernelspec": {
      "name": "python3",
      "display_name": "Python 3"
    },
    "language_info": {
      "name": "python"
    }
  },
main
      "cell_type": "code",
      "source": [
        "print(\"helloo\")"
      ],
      "metadata": {
        "colab": {
          "base_uri": "https://localhost:8080/"
        },
        "id": "7pf4ANsnMtcB",
        "outputId": "d1261859-1ed0-47b8-d324-aeb6472fdf39"
      },
      "execution_count": 4,
      "outputs": [
        {
          "output_type": "stream",
          "name": "stdout",
          "text": [
            "helloo\n"
          ]
        }
      ]
    },
    {
      "cell_type": "code",
      "source": [
        "import pandas as pd"
      ],
      "metadata": {
        "id": "t78htjaxcmz8"
      },
      "execution_count": 6,
      "outputs": []
    }
  ]
}